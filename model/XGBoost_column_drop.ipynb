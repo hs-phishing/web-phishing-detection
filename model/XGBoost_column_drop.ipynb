{
  "cells": [
    {
      "cell_type": "code",
      "execution_count": 116,
      "metadata": {
        "id": "oBzEAtH83uSP"
      },
      "outputs": [],
      "source": [
        "import pandas as pd\n",
        "import numpy as np\n",
        "import seaborn as sns\n",
        "import matplotlib.pyplot as plt\n",
        "from sklearn.preprocessing import LabelEncoder\n",
        "from sklearn.model_selection import train_test_split, GridSearchCV, KFold, cross_val_score\n",
        "from sklearn.metrics import accuracy_score, confusion_matrix, classification_report, ConfusionMatrixDisplay\n",
        "from xgboost import XGBClassifier"
      ]
    },
    {
      "cell_type": "markdown",
      "metadata": {
        "id": "ttVo_9ZMFtGu"
      },
      "source": [
        "<h1>데이터셋 불러오기"
      ]
    },
    {
      "cell_type": "code",
      "execution_count": 117,
      "metadata": {
        "id": "H-7TbjRx33zX"
      },
      "outputs": [],
      "source": [
        "# 첫 번째 열(인덱스) 제거 후 불러옴\n",
        "df = pd.read_csv('dataset.csv', index_col=0)"
      ]
    },
    {
      "cell_type": "code",
      "execution_count": 118,
      "metadata": {
        "colab": {
          "base_uri": "https://localhost:8080/"
        },
        "id": "wz4hGs_v34NN",
        "outputId": "f32a05bf-a45c-403f-c5ed-5240d6dcb82a"
      },
      "outputs": [
        {
          "output_type": "execute_result",
          "data": {
            "text/plain": [
              "Index(['having_IPhaving_IP_Address', 'URLURL_Length', 'Shortining_Service',\n",
              "       'having_At_Symbol', 'double_slash_redirecting', 'Prefix_Suffix',\n",
              "       'having_Sub_Domain', 'SSLfinal_State', 'Domain_registeration_length',\n",
              "       'Favicon', 'port', 'HTTPS_token', 'Request_URL', 'URL_of_Anchor',\n",
              "       'Links_in_tags', 'SFH', 'Submitting_to_email', 'Abnormal_URL',\n",
              "       'Redirect', 'on_mouseover', 'RightClick', 'popUpWidnow', 'Iframe',\n",
              "       'age_of_domain', 'DNSRecord', 'web_traffic', 'Page_Rank',\n",
              "       'Google_Index', 'Links_pointing_to_page', 'Statistical_report',\n",
              "       'Result'],\n",
              "      dtype='object')"
            ]
          },
          "metadata": {},
          "execution_count": 118
        }
      ],
      "source": [
        "# 컬럼 확인\n",
        "df.columns"
      ]
    },
    {
      "cell_type": "code",
      "execution_count": 119,
      "metadata": {
        "colab": {
          "base_uri": "https://localhost:8080/"
        },
        "id": "D4NVJ6OCFzZB",
        "outputId": "719ed0dd-5976-4757-b634-f901ae199137"
      },
      "outputs": [
        {
          "output_type": "stream",
          "name": "stdout",
          "text": [
            "<class 'pandas.core.frame.DataFrame'>\n",
            "Index: 11055 entries, 1 to 11055\n",
            "Data columns (total 31 columns):\n",
            " #   Column                       Non-Null Count  Dtype\n",
            "---  ------                       --------------  -----\n",
            " 0   having_IPhaving_IP_Address   11055 non-null  int64\n",
            " 1   URLURL_Length                11055 non-null  int64\n",
            " 2   Shortining_Service           11055 non-null  int64\n",
            " 3   having_At_Symbol             11055 non-null  int64\n",
            " 4   double_slash_redirecting     11055 non-null  int64\n",
            " 5   Prefix_Suffix                11055 non-null  int64\n",
            " 6   having_Sub_Domain            11055 non-null  int64\n",
            " 7   SSLfinal_State               11055 non-null  int64\n",
            " 8   Domain_registeration_length  11055 non-null  int64\n",
            " 9   Favicon                      11055 non-null  int64\n",
            " 10  port                         11055 non-null  int64\n",
            " 11  HTTPS_token                  11055 non-null  int64\n",
            " 12  Request_URL                  11055 non-null  int64\n",
            " 13  URL_of_Anchor                11055 non-null  int64\n",
            " 14  Links_in_tags                11055 non-null  int64\n",
            " 15  SFH                          11055 non-null  int64\n",
            " 16  Submitting_to_email          11055 non-null  int64\n",
            " 17  Abnormal_URL                 11055 non-null  int64\n",
            " 18  Redirect                     11055 non-null  int64\n",
            " 19  on_mouseover                 11055 non-null  int64\n",
            " 20  RightClick                   11055 non-null  int64\n",
            " 21  popUpWidnow                  11055 non-null  int64\n",
            " 22  Iframe                       11055 non-null  int64\n",
            " 23  age_of_domain                11055 non-null  int64\n",
            " 24  DNSRecord                    11055 non-null  int64\n",
            " 25  web_traffic                  11055 non-null  int64\n",
            " 26  Page_Rank                    11055 non-null  int64\n",
            " 27  Google_Index                 11055 non-null  int64\n",
            " 28  Links_pointing_to_page       11055 non-null  int64\n",
            " 29  Statistical_report           11055 non-null  int64\n",
            " 30  Result                       11055 non-null  int64\n",
            "dtypes: int64(31)\n",
            "memory usage: 2.7 MB\n"
          ]
        }
      ],
      "source": [
        "# 데이터 정보 확인\n",
        "df.info()"
      ]
    },
    {
      "cell_type": "code",
      "source": [
        "# 특정 피처 드랍\n",
        "df = df.drop(columns=['web_traffic'])\n",
        "df = df.drop(columns=['Page_Rank'])\n",
        "df = df.drop(columns=['Links_pointing_to_page'])\n",
        "df = df.drop(columns=['Statistical_report'])\n",
        "\n",
        "df = df.drop(columns=['Shortining_Service'])\n",
        "\n",
        "df = df.drop(columns=['RightClick'])\n",
        "df = df.drop(columns=['on_mouseover'])\n",
        "df = df.drop(columns=['Iframe'])\n",
        "df = df.drop(columns=['Favicon'])"
      ],
      "metadata": {
        "id": "ryRDxksQchyT"
      },
      "execution_count": 120,
      "outputs": []
    },
    {
      "cell_type": "code",
      "source": [
        "# 데이터 정보 확인\n",
        "df.info()"
      ],
      "metadata": {
        "colab": {
          "base_uri": "https://localhost:8080/"
        },
        "id": "uZmrVg5meIB6",
        "outputId": "bc26feaf-41fd-41fe-ffb1-d416472217ed"
      },
      "execution_count": 122,
      "outputs": [
        {
          "output_type": "stream",
          "name": "stdout",
          "text": [
            "<class 'pandas.core.frame.DataFrame'>\n",
            "Index: 11055 entries, 1 to 11055\n",
            "Data columns (total 22 columns):\n",
            " #   Column                       Non-Null Count  Dtype\n",
            "---  ------                       --------------  -----\n",
            " 0   having_IPhaving_IP_Address   11055 non-null  int64\n",
            " 1   URLURL_Length                11055 non-null  int64\n",
            " 2   having_At_Symbol             11055 non-null  int64\n",
            " 3   double_slash_redirecting     11055 non-null  int64\n",
            " 4   Prefix_Suffix                11055 non-null  int64\n",
            " 5   having_Sub_Domain            11055 non-null  int64\n",
            " 6   SSLfinal_State               11055 non-null  int64\n",
            " 7   Domain_registeration_length  11055 non-null  int64\n",
            " 8   port                         11055 non-null  int64\n",
            " 9   HTTPS_token                  11055 non-null  int64\n",
            " 10  Request_URL                  11055 non-null  int64\n",
            " 11  URL_of_Anchor                11055 non-null  int64\n",
            " 12  Links_in_tags                11055 non-null  int64\n",
            " 13  SFH                          11055 non-null  int64\n",
            " 14  Submitting_to_email          11055 non-null  int64\n",
            " 15  Abnormal_URL                 11055 non-null  int64\n",
            " 16  Redirect                     11055 non-null  int64\n",
            " 17  popUpWidnow                  11055 non-null  int64\n",
            " 18  age_of_domain                11055 non-null  int64\n",
            " 19  DNSRecord                    11055 non-null  int64\n",
            " 20  Google_Index                 11055 non-null  int64\n",
            " 21  Result                       11055 non-null  int64\n",
            "dtypes: int64(22)\n",
            "memory usage: 1.9 MB\n"
          ]
        }
      ]
    },
    {
      "cell_type": "code",
      "execution_count": 123,
      "metadata": {
        "colab": {
          "base_uri": "https://localhost:8080/"
        },
        "id": "PaUPkN0GF9n4",
        "outputId": "2ef883f2-7b97-4aac-e261-3b3ffebefd9b"
      },
      "outputs": [
        {
          "output_type": "execute_result",
          "data": {
            "text/plain": [
              "(11055, 22)"
            ]
          },
          "metadata": {},
          "execution_count": 123
        }
      ],
      "source": [
        "# 데이터 크기 확인\n",
        "df.shape"
      ]
    },
    {
      "cell_type": "code",
      "execution_count": 124,
      "metadata": {
        "colab": {
          "base_uri": "https://localhost:8080/",
          "height": 472
        },
        "id": "PSqcN28ZF-m2",
        "outputId": "dc920342-2b84-45ac-be30-c6fecb0b2fa5"
      },
      "outputs": [
        {
          "output_type": "display_data",
          "data": {
            "text/plain": [
              "<Figure size 640x480 with 1 Axes>"
            ],
            "image/png": "[encoded data removed]"
          },
          "metadata": {}
        }
      ],
      "source": [
        "sns.countplot(x='Result', data=df)\n",
        "plt.title('Result Distribution')\n",
        "plt.xlabel('Label')\n",
        "plt.ylabel('Count')\n",
        "plt.show()"
      ]
    },
    {
      "cell_type": "markdown",
      "metadata": {
        "id": "vBsea6eqGCCU"
      },
      "source": [
        "<h1>데이터 분할"
      ]
    },
    {
      "cell_type": "code",
      "execution_count": 125,
      "metadata": {
        "id": "q_xucY9A35o_"
      },
      "outputs": [],
      "source": [
        "X = df.drop(columns=['Result']) # 'Result' 열은 phising/legitimate 데이터 가지고 있음\n",
        "y = df['Result']\n",
        "\n",
        "X_train, X_test, y_train, y_test = train_test_split(X, y, test_size=0.2, random_state=42)"
      ]
    },
    {
      "cell_type": "markdown",
      "metadata": {
        "id": "Q6r2sZRoGHCD"
      },
      "source": [
        "<h1>모델 객체 생성"
      ]
    },
    {
      "cell_type": "code",
      "execution_count": 126,
      "metadata": {
        "id": "-X-YFP2n4AFR"
      },
      "outputs": [],
      "source": [
        "# xgb = XGBClassifier(\n",
        "#     objective='binary:logistic',\n",
        "#     learning_rate=0.4,\n",
        "#     n_estimators=200,\n",
        "#     max_depth=7,\n",
        "\n",
        "#     )\n",
        "\n",
        "# 최적 파라미터 적용\n",
        "xgb = XGBClassifier(\n",
        "    objective='binary:logistic',\n",
        "    colsample_bytree = 0.8,\n",
        "    learning_rate=0.2,\n",
        "    n_estimators=300,\n",
        "    min_child_weigh = 1,\n",
        "    subsample = 0.9,\n",
        "    max_depth=5,\n",
        "  )"
      ]
    },
    {
      "cell_type": "code",
      "execution_count": 127,
      "metadata": {
        "colab": {
          "base_uri": "https://localhost:8080/"
        },
        "id": "XViFe3Hr4Rcp",
        "outputId": "e489bd40-be4b-470b-9211-f9f09b8d5d5c"
      },
      "outputs": [
        {
          "output_type": "stream",
          "name": "stdout",
          "text": [
            "변환 후 y_train 고유 값: [1 0]\n",
            "변환 후 y_train 유일한 값 개수:\n",
            " Result\n",
            "1    4902\n",
            "0    3942\n",
            "Name: count, dtype: int64\n",
            "\n",
            "변환 후 y_test 고유 값: [0 1]\n",
            "변환 후 y_test 유일한 값 개수:\n",
            " Result\n",
            "1    1255\n",
            "0     956\n",
            "Name: count, dtype: int64\n"
          ]
        }
      ],
      "source": [
        "# 타겟 값 변환 (-1을 0으로 변환)\n",
        "# XGBoost 모델이 기대하는 형식[0 1]과 맞춤\n",
        "y_train[y_train == -1] = 0\n",
        "y_test[y_test == -1] = 0\n",
        "\n",
        "# 변환 후 고유 값 및 빈도 확인\n",
        "print(\"변환 후 y_train 고유 값:\", pd.Series(y_train).unique())\n",
        "print(\"변환 후 y_train 유일한 값 개수:\\n\", pd.Series(y_train).value_counts())\n",
        "print()\n",
        "print(\"변환 후 y_test 고유 값:\", pd.Series(y_test).unique())\n",
        "print(\"변환 후 y_test 유일한 값 개수:\\n\", pd.Series(y_test).value_counts())"
      ]
    },
    {
      "cell_type": "markdown",
      "metadata": {
        "id": "o3wskABsGU62"
      },
      "source": [
        "<h1>모델 학습"
      ]
    },
    {
      "cell_type": "code",
      "execution_count": 128,
      "metadata": {
        "colab": {
          "base_uri": "https://localhost:8080/",
          "height": 340
        },
        "id": "rQY0WAiwGXqA",
        "outputId": "89288b4a-7018-49e2-8c60-6ca3f4a3443c"
      },
      "outputs": [
        {
          "output_type": "stream",
          "name": "stderr",
          "text": [
            "/usr/local/lib/python3.10/dist-packages/xgboost/core.py:158: UserWarning: [05:30:41] WARNING: /workspace/src/learner.cc:740: \n",
            "Parameters: { \"min_child_weigh\" } are not used.\n",
            "\n",
            "  warnings.warn(smsg, UserWarning)\n"
          ]
        },
        {
          "output_type": "execute_result",
          "data": {
            "text/plain": [
              "XGBClassifier(base_score=None, booster=None, callbacks=None,\n",
              "              colsample_bylevel=None, colsample_bynode=None,\n",
              "              colsample_bytree=0.8, device=None, early_stopping_rounds=None,\n",
              "              enable_categorical=False, eval_metric=None, feature_types=None,\n",
              "              gamma=None, grow_policy=None, importance_type=None,\n",
              "              interaction_constraints=None, learning_rate=0.2, max_bin=None,\n",
              "              max_cat_threshold=None, max_cat_to_onehot=None,\n",
              "              max_delta_step=None, max_depth=5, max_leaves=None,\n",
              "              min_child_weigh=1, min_child_weight=None, missing=nan,\n",
              "              monotone_constraints=None, multi_strategy=None, n_estimators=300,\n",
              "              n_jobs=None, num_parallel_tree=None, ...)"
            ],
            "text/html": [
              "<style>#sk-container-id-6 {color: black;}#sk-container-id-6 pre{padding: 0;}#sk-container-id-6 div.sk-toggleable {background-color: white;}#sk-container-id-6 label.sk-toggleable__label {cursor: pointer;display: block;width: 100%;margin-bottom: 0;padding: 0.3em;box-sizing: border-box;text-align: center;}#sk-container-id-6 label.sk-toggleable__label-arrow:before {content: \"▸\";float: left;margin-right: 0.25em;color: #696969;}#sk-container-id-6 label.sk-toggleable__label-arrow:hover:before {color: black;}#sk-container-id-6 div.sk-estimator:hover label.sk-toggleable__label-arrow:before {color: black;}#sk-container-id-6 div.sk-toggleable__content {max-height: 0;max-width: 0;overflow: hidden;text-align: left;background-color: #f0f8ff;}#sk-container-id-6 div.sk-toggleable__content pre {margin: 0.2em;color: black;border-radius: 0.25em;background-color: #f0f8ff;}#sk-container-id-6 input.sk-toggleable__control:checked~div.sk-toggleable__content {max-height: 200px;max-width: 100%;overflow: auto;}#sk-container-id-6 input.sk-toggleable__control:checked~label.sk-toggleable__label-arrow:before {content: \"▾\";}#sk-container-id-6 div.sk-estimator input.sk-toggleable__control:checked~label.sk-toggleable__label {background-color: #d4ebff;}#sk-container-id-6 div.sk-label input.sk-toggleable__control:checked~label.sk-toggleable__label {background-color: #d4ebff;}#sk-container-id-6 input.sk-hidden--visually {border: 0;clip: rect(1px 1px 1px 1px);clip: rect(1px, 1px, 1px, 1px);height: 1px;margin: -1px;overflow: hidden;padding: 0;position: absolute;width: 1px;}#sk-container-id-6 div.sk-estimator {font-family: monospace;background-color: #f0f8ff;border: 1px dotted black;border-radius: 0.25em;box-sizing: border-box;margin-bottom: 0.5em;}#sk-container-id-6 div.sk-estimator:hover {background-color: #d4ebff;}#sk-container-id-6 div.sk-parallel-item::after {content: \"\";width: 100%;border-bottom: 1px solid gray;flex-grow: 1;}#sk-container-id-6 div.sk-label:hover label.sk-toggleable__label {background-color: #d4ebff;}#sk-container-id-6 div.sk-serial::before {content: \"\";position: absolute;border-left: 1px solid gray;box-sizing: border-box;top: 0;bottom: 0;left: 50%;z-index: 0;}#sk-container-id-6 div.sk-serial {display: flex;flex-direction: column;align-items: center;background-color: white;padding-right: 0.2em;padding-left: 0.2em;position: relative;}#sk-container-id-6 div.sk-item {position: relative;z-index: 1;}#sk-container-id-6 div.sk-parallel {display: flex;align-items: stretch;justify-content: center;background-color: white;position: relative;}#sk-container-id-6 div.sk-item::before, #sk-container-id-6 div.sk-parallel-item::before {content: \"\";position: absolute;border-left: 1px solid gray;box-sizing: border-box;top: 0;bottom: 0;left: 50%;z-index: -1;}#sk-container-id-6 div.sk-parallel-item {display: flex;flex-direction: column;z-index: 1;position: relative;background-color: white;}#sk-container-id-6 div.sk-parallel-item:first-child::after {align-self: flex-end;width: 50%;}#sk-container-id-6 div.sk-parallel-item:last-child::after {align-self: flex-start;width: 50%;}#sk-container-id-6 div.sk-parallel-item:only-child::after {width: 0;}#sk-container-id-6 div.sk-dashed-wrapped {border: 1px dashed gray;margin: 0 0.4em 0.5em 0.4em;box-sizing: border-box;padding-bottom: 0.4em;background-color: white;}#sk-container-id-6 div.sk-label label {font-family: monospace;font-weight: bold;display: inline-block;line-height: 1.2em;}#sk-container-id-6 div.sk-label-container {text-align: center;}#sk-container-id-6 div.sk-container {/* jupyter's `normalize.less` sets `[hidden] { display: none; }` but bootstrap.min.css set `[hidden] { display: none !important; }` so we also need the `!important` here to be able to override the default hidden behavior on the sphinx rendered scikit-learn.org. See: https://github.com/scikit-learn/scikit-learn/issues/21755 */display: inline-block !important;position: relative;}#sk-container-id-6 div.sk-text-repr-fallback {display: none;}</style><div id=\"sk-container-id-6\" class=\"sk-top-container\"><div class=\"sk-text-repr-fallback\"><pre>XGBClassifier(base_score=None, booster=None, callbacks=None,\n",
              "              colsample_bylevel=None, colsample_bynode=None,\n",
              "              colsample_bytree=0.8, device=None, early_stopping_rounds=None,\n",
              "              enable_categorical=False, eval_metric=None, feature_types=None,\n",
              "              gamma=None, grow_policy=None, importance_type=None,\n",
              "              interaction_constraints=None, learning_rate=0.2, max_bin=None,\n",
              "              max_cat_threshold=None, max_cat_to_onehot=None,\n",
              "              max_delta_step=None, max_depth=5, max_leaves=None,\n",
              "              min_child_weigh=1, min_child_weight=None, missing=nan,\n",
              "              monotone_constraints=None, multi_strategy=None, n_estimators=300,\n",
              "              n_jobs=None, num_parallel_tree=None, ...)</pre><b>In a Jupyter environment, please rerun this cell to show the HTML representation or trust the notebook. <br />On GitHub, the HTML representation is unable to render, please try loading this page with nbviewer.org.</b></div><div class=\"sk-container\" hidden><div class=\"sk-item\"><div class=\"sk-estimator sk-toggleable\"><input class=\"sk-toggleable__control sk-hidden--visually\" id=\"sk-estimator-id-6\" type=\"checkbox\" checked><label for=\"sk-estimator-id-6\" class=\"sk-toggleable__label sk-toggleable__label-arrow\">XGBClassifier</label><div class=\"sk-toggleable__content\"><pre>XGBClassifier(base_score=None, booster=None, callbacks=None,\n",
              "              colsample_bylevel=None, colsample_bynode=None,\n",
              "              colsample_bytree=0.8, device=None, early_stopping_rounds=None,\n",
              "              enable_categorical=False, eval_metric=None, feature_types=None,\n",
              "              gamma=None, grow_policy=None, importance_type=None,\n",
              "              interaction_constraints=None, learning_rate=0.2, max_bin=None,\n",
              "              max_cat_threshold=None, max_cat_to_onehot=None,\n",
              "              max_delta_step=None, max_depth=5, max_leaves=None,\n",
              "              min_child_weigh=1, min_child_weight=None, missing=nan,\n",
              "              monotone_constraints=None, multi_strategy=None, n_estimators=300,\n",
              "              n_jobs=None, num_parallel_tree=None, ...)</pre></div></div></div></div></div>"
            ]
          },
          "metadata": {},
          "execution_count": 128
        }
      ],
      "source": [
        "xgb.fit(X_train, y_train)"
      ]
    },
    {
      "cell_type": "markdown",
      "metadata": {
        "id": "oOvPstqVGX9R"
      },
      "source": [
        "<h1>모델 평가"
      ]
    },
    {
      "cell_type": "code",
      "execution_count": 129,
      "metadata": {
        "colab": {
          "base_uri": "https://localhost:8080/"
        },
        "id": "f3Hpg4ei4TWz",
        "outputId": "4a3b6571-c1ea-4d92-9d47-d3e7426fcbfe"
      },
      "outputs": [
        {
          "output_type": "stream",
          "name": "stdout",
          "text": [
            "Test Accuracy: 0.95838986883763\n",
            "Train Accuracy: 0.9729760289461782\n"
          ]
        }
      ],
      "source": [
        "# 일반화 성능 평가용\n",
        "y_test_pred = xgb.predict(X_test)\n",
        "\n",
        "# 과적합 여부 확인\n",
        "y_train_pred = xgb.predict(X_train)\n",
        "\n",
        "# 검증 정확도 계산\n",
        "acc_test = accuracy_score(y_test, y_test_pred)\n",
        "print(f\"Test Accuracy: {acc_test}\")\n",
        "\n",
        "# 훈련 정확도 계산\n",
        "acc_train = accuracy_score(y_train, y_train_pred)\n",
        "print(f\"Train Accuracy: {acc_train}\")"
      ]
    },
    {
      "cell_type": "markdown",
      "metadata": {
        "id": "MjveQpPRGbHs"
      },
      "source": [
        "<h1>분류 보고서"
      ]
    },
    {
      "cell_type": "code",
      "execution_count": 130,
      "metadata": {
        "colab": {
          "base_uri": "https://localhost:8080/"
        },
        "id": "XaqLrP1a8E9H",
        "outputId": "ad9e7c31-ef0a-4332-98f5-3633dc7a8f10"
      },
      "outputs": [
        {
          "output_type": "stream",
          "name": "stdout",
          "text": [
            "Test Classification Report:\n",
            "              precision    recall  f1-score   support\n",
            "\n",
            "          -1       0.97      0.94      0.95       956\n",
            "           1       0.95      0.97      0.96      1255\n",
            "\n",
            "    accuracy                           0.96      2211\n",
            "   macro avg       0.96      0.96      0.96      2211\n",
            "weighted avg       0.96      0.96      0.96      2211\n",
            "\n"
          ]
        }
      ],
      "source": [
        "# 테스트셋 분류 보고서\n",
        "test_report = classification_report(y_test, y_test_pred, target_names=['-1', '1'])\n",
        "print(\"Test Classification Report:\")\n",
        "print(test_report)"
      ]
    },
    {
      "cell_type": "code",
      "execution_count": 131,
      "metadata": {
        "colab": {
          "base_uri": "https://localhost:8080/"
        },
        "id": "YlM4jF2Y8Hbt",
        "outputId": "f4fb7420-fb67-454a-bc5c-833eb1d2b0c6"
      },
      "outputs": [
        {
          "output_type": "stream",
          "name": "stdout",
          "text": [
            "Train Classification Report:\n",
            "              precision    recall  f1-score   support\n",
            "\n",
            "          -1       0.98      0.96      0.97      3942\n",
            "           1       0.97      0.98      0.98      4902\n",
            "\n",
            "    accuracy                           0.97      8844\n",
            "   macro avg       0.97      0.97      0.97      8844\n",
            "weighted avg       0.97      0.97      0.97      8844\n",
            "\n"
          ]
        }
      ],
      "source": [
        "# 훈련셋 분류 보고서\n",
        "train_report = classification_report(y_train, y_train_pred, target_names=['-1', '1'])\n",
        "print(\"Train Classification Report:\")\n",
        "print(train_report)"
      ]
    },
    {
      "cell_type": "markdown",
      "metadata": {
        "id": "ioO0kMCeGeDI"
      },
      "source": [
        "<h1>혼동 행렬"
      ]
    },
    {
      "cell_type": "code",
      "execution_count": 132,
      "metadata": {
        "colab": {
          "base_uri": "https://localhost:8080/",
          "height": 472
        },
        "id": "F9qqsdpp8KEO",
        "outputId": "c5c5be15-36eb-455a-fff6-9f0371f0e8e9"
      },
      "outputs": [
        {
          "output_type": "display_data",
          "data": {
            "text/plain": [
              "<Figure size 640x480 with 2 Axes>"
            ],
            "image/png": "[encoded data removed]"
          },
          "metadata": {}
        }
      ],
      "source": [
        "# 테스트 데이터 혼동 행렬\n",
        "test_conf_matrix = confusion_matrix(y_test, y_test_pred, labels=[0, 1])\n",
        "\n",
        "disp_test = ConfusionMatrixDisplay(confusion_matrix=test_conf_matrix, display_labels=[-1, 1])\n",
        "disp_test.plot()\n",
        "plt.title('Test Confusion Matrix')\n",
        "plt.show()"
      ]
    },
    {
      "cell_type": "code",
      "execution_count": 133,
      "metadata": {
        "colab": {
          "base_uri": "https://localhost:8080/",
          "height": 472
        },
        "id": "T1JQiQIc8Wct",
        "outputId": "eda12f48-0568-4790-dd0a-cfc401cfba88"
      },
      "outputs": [
        {
          "output_type": "display_data",
          "data": {
            "text/plain": [
              "<Figure size 640x480 with 2 Axes>"
            ],
            "image/png": "[encoded data removed]"
          },
          "metadata": {}
        }
      ],
      "source": [
        "# 훈련 데이터 혼동 행렬\n",
        "train_conf_matrix = confusion_matrix(y_train, y_train_pred, labels=[0, 1])\n",
        "\n",
        "disp_train = ConfusionMatrixDisplay(confusion_matrix=train_conf_matrix, display_labels=[-1, 1])\n",
        "disp_train.plot()\n",
        "plt.title('Train Confusion Matrix')\n",
        "plt.show()"
      ]
    },
    {
      "cell_type": "markdown",
      "metadata": {
        "id": "_CYJmKSlGilK"
      },
      "source": [
        "<h1>교차 검증"
      ]
    },
    {
      "cell_type": "code",
      "execution_count": 134,
      "metadata": {
        "colab": {
          "base_uri": "https://localhost:8080/"
        },
        "id": "rQjS5ynD6vOm",
        "outputId": "99e1731a-4521-48e4-ef6d-dee8a7200d4b"
      },
      "outputs": [
        {
          "output_type": "stream",
          "name": "stderr",
          "text": [
            "/usr/local/lib/python3.10/dist-packages/xgboost/core.py:158: UserWarning: [05:30:51] WARNING: /workspace/src/learner.cc:740: \n",
            "Parameters: { \"min_child_weigh\" } are not used.\n",
            "\n",
            "  warnings.warn(smsg, UserWarning)\n",
            "/usr/local/lib/python3.10/dist-packages/xgboost/core.py:158: UserWarning: [05:30:52] WARNING: /workspace/src/learner.cc:740: \n",
            "Parameters: { \"min_child_weigh\" } are not used.\n",
            "\n",
            "  warnings.warn(smsg, UserWarning)\n",
            "/usr/local/lib/python3.10/dist-packages/xgboost/core.py:158: UserWarning: [05:30:52] WARNING: /workspace/src/learner.cc:740: \n",
            "Parameters: { \"min_child_weigh\" } are not used.\n",
            "\n",
            "  warnings.warn(smsg, UserWarning)\n",
            "/usr/local/lib/python3.10/dist-packages/xgboost/core.py:158: UserWarning: [05:30:53] WARNING: /workspace/src/learner.cc:740: \n",
            "Parameters: { \"min_child_weigh\" } are not used.\n",
            "\n",
            "  warnings.warn(smsg, UserWarning)\n",
            "/usr/local/lib/python3.10/dist-packages/xgboost/core.py:158: UserWarning: [05:30:53] WARNING: /workspace/src/learner.cc:740: \n",
            "Parameters: { \"min_child_weigh\" } are not used.\n",
            "\n",
            "  warnings.warn(smsg, UserWarning)\n"
          ]
        },
        {
          "output_type": "stream",
          "name": "stdout",
          "text": [
            "교차 검증 0 정확도: 0.9576\n",
            "교차 검증 1 정확도: 0.9446\n",
            "교차 검증 2 정확도: 0.9661\n",
            "교차 검증 3 정확도: 0.9525\n",
            "교차 검증 4 정확도: 0.9615\n",
            "평균 정확도: 0.9565\n"
          ]
        }
      ],
      "source": [
        "# 5-fold 교차 검증 설정\n",
        "kf = KFold(n_splits=5, shuffle=True, random_state=42)\n",
        "cv_results = cross_val_score(xgb, X_train, y_train, cv=kf, scoring='accuracy')\n",
        "\n",
        "# 교차 검증 결과 출력\n",
        "for i, score in enumerate(cv_results):\n",
        "    print(f\"교차 검증 {i} 정확도: {score:.4f}\")\n",
        "\n",
        "# 평균 정확도 출력\n",
        "mean_cv_score = cv_results.mean()\n",
        "print(f\"평균 정확도: {mean_cv_score:.4f}\")"
      ]
    },
    {
      "cell_type": "markdown",
      "source": [
        "# 하이퍼파라미터 튜닝"
      ],
      "metadata": {
        "id": "umFV6W9Oh_cB"
      }
    },
    {
      "cell_type": "code",
      "source": [
        "# 하이퍼파라미터 튜닝\n",
        "parameters = {\n",
        "    'n_estimators': [100, 200, 300],\n",
        "    'learning_rate': [0.01, 0.1, 0.2],\n",
        "    'max_depth': [3, 4, 5],\n",
        "    'min_child_weight': [1, 5, 10],\n",
        "    'subsample': [0.8, 0.9, 1.0],\n",
        "    'colsample_bytree': [0.8, 0.9, 1.0]\n",
        "}\n",
        "\n",
        "grid_xgb = GridSearchCV(xgb, param_grid=parameters, scoring='accuracy', n_jobs=-1, cv=5)\n",
        "grid_xgb.fit(X_train, y_train)\n",
        "\n",
        "print('XGBoost 최적 하이퍼 파라미터 :', grid_xgb.best_params_)\n",
        "print('XGBoost 최고 정확도: {0:.4f}'.format(grid_xgb.best_score_))\n",
        "\n",
        "# 최적 모델 평가\n",
        "best_xgb = grid_xgb.best_estimator_\n",
        "dpredictions = best_xgb.predict(X_test)\n",
        "accuracy = accuracy_score(y_test, dpredictions)\n",
        "print('테스트 세트에서의 최적 XGBoost 정확도 : {0:.4f}'.format(accuracy))"
      ],
      "metadata": {
        "colab": {
          "base_uri": "https://localhost:8080/"
        },
        "id": "8rWCoRpLh-sp",
        "outputId": "5aa780db-cfd9-4f7f-8659-268d7af9e32c"
      },
      "execution_count": 105,
      "outputs": [
        {
          "output_type": "stream",
          "name": "stdout",
          "text": [
            "XGBoost 최적 하이퍼 파라미터 : {'colsample_bytree': 0.8, 'learning_rate': 0.2, 'max_depth': 5, 'min_child_weight': 1, 'n_estimators': 300, 'subsample': 0.9}\n",
            "XGBoost 최고 정확도: 0.9561\n",
            "테스트 세트에서의 최적 XGBoost 정확도 : 0.9584\n"
          ]
        }
      ]
    },
    {
      "cell_type": "markdown",
      "metadata": {
        "id": "dMn8QxIj_4Q7"
      },
      "source": [
        "# pkl 파일 저장"
      ]
    },
    {
      "cell_type": "code",
      "execution_count": 135,
      "metadata": {
        "colab": {
          "base_uri": "https://localhost:8080/"
        },
        "id": "pR7EYE-e_4c-",
        "outputId": "cc255e06-35d3-4206-c89b-cdf68ae464d1"
      },
      "outputs": [
        {
          "output_type": "stream",
          "name": "stdout",
          "text": [
            "모델이 성공적으로 저장되었습니다.\n"
          ]
        }
      ],
      "source": [
        "# 모델을 pkl 파일로 저장\n",
        "import pickle\n",
        "\n",
        "try:\n",
        "    with open('xgboost_model_column_drop.pkl', 'wb') as f:\n",
        "        pickle.dump(xgb, f)\n",
        "    print(\"모델이 성공적으로 저장되었습니다.\")\n",
        "except Exception as e:\n",
        "    print(f\"모델 저장 중 오류 발생: {e}\")"
      ]
    }
  ],
  "metadata": {
    "colab": {
      "provenance": [],
      "collapsed_sections": [
        "umFV6W9Oh_cB"
      ]
    },
    "kernelspec": {
      "display_name": "Python 3",
      "name": "python3"
    },
    "language_info": {
      "name": "python"
    }
  },
  "nbformat": 4,
  "nbformat_minor": 0
}