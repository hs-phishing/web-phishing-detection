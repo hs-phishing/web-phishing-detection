{
  "nbformat": 4,
  "nbformat_minor": 0,
  "metadata": {
    "colab": {
      "provenance": []
    },
    "kernelspec": {
      "name": "python3",
      "display_name": "Python 3"
    },
    "language_info": {
      "name": "python"
    }
  },
  "cells": [
    {
      "cell_type": "code",
      "execution_count": 13,
      "metadata": {
        "id": "gRCG4kITUBn0"
      },
      "outputs": [],
      "source": [
        "import pandas as pd\n",
        "import numpy as np\n",
        "import seaborn as sns\n",
        "import matplotlib.pyplot as plt\n",
        "from sklearn.preprocessing import LabelEncoder\n",
        "from sklearn.model_selection import train_test_split, GridSearchCV\n",
        "from sklearn.metrics import accuracy_score, confusion_matrix, classification_report, ConfusionMatrixDisplay\n",
        "from xgboost import XGBClassifier"
      ]
    },
    {
      "cell_type": "markdown",
      "source": [
        "<h1>데이터셋 불러오기"
      ],
      "metadata": {
        "id": "SFhoL6WMU9Lx"
      }
    },
    {
      "cell_type": "code",
      "source": [
        "# 첫 번째 열(인덱스) 제거 후 불러옴\n",
        "df = pd.read_csv('dataset.csv', index_col=0)"
      ],
      "metadata": {
        "id": "5cJYJYjYUzTq"
      },
      "execution_count": 14,
      "outputs": []
    },
    {
      "cell_type": "code",
      "source": [
        "# 컬럼 확인\n",
        "df.columns"
      ],
      "metadata": {
        "colab": {
          "base_uri": "https://localhost:8080/"
        },
        "id": "i4YCum7uUzrP",
        "outputId": "56a375c9-de98-4585-a1c1-954df1f9dee3"
      },
      "execution_count": 15,
      "outputs": [
        {
          "output_type": "execute_result",
          "data": {
            "text/plain": [
              "Index(['having_IPhaving_IP_Address', 'URLURL_Length', 'Shortining_Service',\n",
              "       'having_At_Symbol', 'double_slash_redirecting', 'Prefix_Suffix',\n",
              "       'having_Sub_Domain', 'SSLfinal_State', 'Domain_registeration_length',\n",
              "       'Favicon', 'port', 'HTTPS_token', 'Request_URL', 'URL_of_Anchor',\n",
              "       'Links_in_tags', 'SFH', 'Submitting_to_email', 'Abnormal_URL',\n",
              "       'Redirect', 'on_mouseover', 'RightClick', 'popUpWidnow', 'Iframe',\n",
              "       'age_of_domain', 'DNSRecord', 'web_traffic', 'Page_Rank',\n",
              "       'Google_Index', 'Links_pointing_to_page', 'Statistical_report',\n",
              "       'Result'],\n",
              "      dtype='object')"
            ]
          },
          "metadata": {},
          "execution_count": 15
        }
      ]
    },
    {
      "cell_type": "code",
      "source": [
        "# 데이터 정보 확인\n",
        "df.info()"
      ],
      "metadata": {
        "colab": {
          "base_uri": "https://localhost:8080/"
        },
        "id": "sL9nUPPMW-UU",
        "outputId": "b7585a16-5dd8-4512-c10a-06526260c119"
      },
      "execution_count": 16,
      "outputs": [
        {
          "output_type": "stream",
          "name": "stdout",
          "text": [
            "<class 'pandas.core.frame.DataFrame'>\n",
            "Index: 11055 entries, 1 to 11055\n",
            "Data columns (total 31 columns):\n",
            " #   Column                       Non-Null Count  Dtype\n",
            "---  ------                       --------------  -----\n",
            " 0   having_IPhaving_IP_Address   11055 non-null  int64\n",
            " 1   URLURL_Length                11055 non-null  int64\n",
            " 2   Shortining_Service           11055 non-null  int64\n",
            " 3   having_At_Symbol             11055 non-null  int64\n",
            " 4   double_slash_redirecting     11055 non-null  int64\n",
            " 5   Prefix_Suffix                11055 non-null  int64\n",
            " 6   having_Sub_Domain            11055 non-null  int64\n",
            " 7   SSLfinal_State               11055 non-null  int64\n",
            " 8   Domain_registeration_length  11055 non-null  int64\n",
            " 9   Favicon                      11055 non-null  int64\n",
            " 10  port                         11055 non-null  int64\n",
            " 11  HTTPS_token                  11055 non-null  int64\n",
            " 12  Request_URL                  11055 non-null  int64\n",
            " 13  URL_of_Anchor                11055 non-null  int64\n",
            " 14  Links_in_tags                11055 non-null  int64\n",
            " 15  SFH                          11055 non-null  int64\n",
            " 16  Submitting_to_email          11055 non-null  int64\n",
            " 17  Abnormal_URL                 11055 non-null  int64\n",
            " 18  Redirect                     11055 non-null  int64\n",
            " 19  on_mouseover                 11055 non-null  int64\n",
            " 20  RightClick                   11055 non-null  int64\n",
            " 21  popUpWidnow                  11055 non-null  int64\n",
            " 22  Iframe                       11055 non-null  int64\n",
            " 23  age_of_domain                11055 non-null  int64\n",
            " 24  DNSRecord                    11055 non-null  int64\n",
            " 25  web_traffic                  11055 non-null  int64\n",
            " 26  Page_Rank                    11055 non-null  int64\n",
            " 27  Google_Index                 11055 non-null  int64\n",
            " 28  Links_pointing_to_page       11055 non-null  int64\n",
            " 29  Statistical_report           11055 non-null  int64\n",
            " 30  Result                       11055 non-null  int64\n",
            "dtypes: int64(31)\n",
            "memory usage: 2.7 MB\n"
          ]
        }
      ]
    },
    {
      "cell_type": "code",
      "source": [
        "# 데이터 크기 확인\n",
        "df.shape"
      ],
      "metadata": {
        "colab": {
          "base_uri": "https://localhost:8080/"
        },
        "id": "DFYW-CHCW_rl",
        "outputId": "2c6db44b-580e-402d-db0a-887ea4f29e52"
      },
      "execution_count": 17,
      "outputs": [
        {
          "output_type": "execute_result",
          "data": {
            "text/plain": [
              "(11055, 31)"
            ]
          },
          "metadata": {},
          "execution_count": 17
        }
      ]
    },
    {
      "cell_type": "code",
      "source": [
        "sns.countplot(x='Result', data=df)\n",
        "plt.title('Result Distribution')\n",
        "plt.xlabel('Label')\n",
        "plt.ylabel('Count')\n",
        "plt.show()"
      ],
      "metadata": {
        "colab": {
          "base_uri": "https://localhost:8080/",
          "height": 472
        },
        "id": "zzQKN2P5XCqo",
        "outputId": "037e8647-6426-403e-9148-8ac113657313"
      },
      "execution_count": 18,
      "outputs": [
        {
          "output_type": "display_data",
          "data": {
            "text/plain": [
              "<Figure size 640x480 with 1 Axes>"
            ],
            "image/png": "[encoded data removed]"
          },
          "metadata": {}
        }
      ]
    },
    {
      "cell_type": "markdown",
      "source": [
        "<h1> 데이터 분할"
      ],
      "metadata": {
        "id": "Tv_bCzryVAuZ"
      }
    },
    {
      "cell_type": "code",
      "source": [
        "X = df.drop(columns=['Result']) # 'Result' 열은 phising/legitimate 데이터 가지고 있음\n",
        "y = df['Result']\n",
        "\n",
        "X_train, X_test, y_train, y_test = train_test_split(X, y, test_size=0.2, random_state=12)"
      ],
      "metadata": {
        "id": "iXJYaH3rU65t"
      },
      "execution_count": 19,
      "outputs": []
    },
    {
      "cell_type": "markdown",
      "source": [
        "<h1> 모델 객체 생성"
      ],
      "metadata": {
        "id": "42I27XkIXrSa"
      }
    },
    {
      "cell_type": "code",
      "source": [
        "xgb = XGBClassifier(\n",
        "    objective='binary:logistic',\n",
        "    learning_rate=0.4,\n",
        "    max_depth=7,\n",
        "\n",
        "    )"
      ],
      "metadata": {
        "id": "Gp4-sAerX-tC"
      },
      "execution_count": 31,
      "outputs": []
    },
    {
      "cell_type": "code",
      "source": [
        "# 타겟 값 변환 (-1을 0으로 변환)\n",
        "# XGBoost 모델이 기대하는 형식[0 1]과 맞춤\n",
        "y_train[y_train == -1] = 0\n",
        "y_test[y_test == -1] = 0"
      ],
      "metadata": {
        "id": "GBzFl_NRXu1a"
      },
      "execution_count": 32,
      "outputs": []
    },
    {
      "cell_type": "code",
      "source": [
        "# 변환 후 고유 값 및 빈도 확인\n",
        "print(\"변환 후 y_train 고유 값:\", pd.Series(y_train).unique())\n",
        "print(\"변환 후 y_train 유일한 값 개수:\\n\", pd.Series(y_train).value_counts())\n",
        "print()\n",
        "print(\"변환 후 y_test 고유 값:\", pd.Series(y_test).unique())\n",
        "print(\"변환 후 y_test 유일한 값 개수:\\n\", pd.Series(y_test).value_counts())"
      ],
      "metadata": {
        "colab": {
          "base_uri": "https://localhost:8080/"
        },
        "id": "B8pGDV4fZEQp",
        "outputId": "5b9b47d5-2dfa-4aa4-e77d-9294d00d2b60"
      },
      "execution_count": 33,
      "outputs": [
        {
          "output_type": "stream",
          "name": "stdout",
          "text": [
            "변환 후 y_train 고유 값: [1 0]\n",
            "변환 후 y_train 유일한 값 개수:\n",
            " Result\n",
            "1    4947\n",
            "0    3897\n",
            "Name: count, dtype: int64\n",
            "\n",
            "변환 후 y_test 고유 값: [0 1]\n",
            "변환 후 y_test 유일한 값 개수:\n",
            " Result\n",
            "1    1210\n",
            "0    1001\n",
            "Name: count, dtype: int64\n"
          ]
        }
      ]
    },
    {
      "cell_type": "markdown",
      "source": [
        "<h1> 모델 학습"
      ],
      "metadata": {
        "id": "kZJu4YSVYkag"
      }
    },
    {
      "cell_type": "code",
      "source": [
        "xgb.fit(X_train, y_train)"
      ],
      "metadata": {
        "colab": {
          "base_uri": "https://localhost:8080/",
          "height": 248
        },
        "id": "Qfvtjo6WYk4F",
        "outputId": "5701bdd7-bf4f-4fab-de31-b8580d1136a6"
      },
      "execution_count": 34,
      "outputs": [
        {
          "output_type": "execute_result",
          "data": {
            "text/plain": [
              "XGBClassifier(base_score=None, booster=None, callbacks=None,\n",
              "              colsample_bylevel=None, colsample_bynode=None,\n",
              "              colsample_bytree=None, device=None, early_stopping_rounds=None,\n",
              "              enable_categorical=False, eval_metric=None, feature_types=None,\n",
              "              gamma=None, grow_policy=None, importance_type=None,\n",
              "              interaction_constraints=None, learning_rate=0.4, max_bin=None,\n",
              "              max_cat_threshold=None, max_cat_to_onehot=None,\n",
              "              max_delta_step=None, max_depth=7, max_leaves=None,\n",
              "              min_child_weight=None, missing=nan, monotone_constraints=None,\n",
              "              multi_strategy=None, n_estimators=None, n_jobs=None,\n",
              "              num_parallel_tree=None, random_state=None, ...)"
            ],
            "text/html": [
              "<style>#sk-container-id-1 {color: black;}#sk-container-id-1 pre{padding: 0;}#sk-container-id-1 div.sk-toggleable {background-color: white;}#sk-container-id-1 label.sk-toggleable__label {cursor: pointer;display: block;width: 100%;margin-bottom: 0;padding: 0.3em;box-sizing: border-box;text-align: center;}#sk-container-id-1 label.sk-toggleable__label-arrow:before {content: \"▸\";float: left;margin-right: 0.25em;color: #696969;}#sk-container-id-1 label.sk-toggleable__label-arrow:hover:before {color: black;}#sk-container-id-1 div.sk-estimator:hover label.sk-toggleable__label-arrow:before {color: black;}#sk-container-id-1 div.sk-toggleable__content {max-height: 0;max-width: 0;overflow: hidden;text-align: left;background-color: #f0f8ff;}#sk-container-id-1 div.sk-toggleable__content pre {margin: 0.2em;color: black;border-radius: 0.25em;background-color: #f0f8ff;}#sk-container-id-1 input.sk-toggleable__control:checked~div.sk-toggleable__content {max-height: 200px;max-width: 100%;overflow: auto;}#sk-container-id-1 input.sk-toggleable__control:checked~label.sk-toggleable__label-arrow:before {content: \"▾\";}#sk-container-id-1 div.sk-estimator input.sk-toggleable__control:checked~label.sk-toggleable__label {background-color: #d4ebff;}#sk-container-id-1 div.sk-label input.sk-toggleable__control:checked~label.sk-toggleable__label {background-color: #d4ebff;}#sk-container-id-1 input.sk-hidden--visually {border: 0;clip: rect(1px 1px 1px 1px);clip: rect(1px, 1px, 1px, 1px);height: 1px;margin: -1px;overflow: hidden;padding: 0;position: absolute;width: 1px;}#sk-container-id-1 div.sk-estimator {font-family: monospace;background-color: #f0f8ff;border: 1px dotted black;border-radius: 0.25em;box-sizing: border-box;margin-bottom: 0.5em;}#sk-container-id-1 div.sk-estimator:hover {background-color: #d4ebff;}#sk-container-id-1 div.sk-parallel-item::after {content: \"\";width: 100%;border-bottom: 1px solid gray;flex-grow: 1;}#sk-container-id-1 div.sk-label:hover label.sk-toggleable__label {background-color: #d4ebff;}#sk-container-id-1 div.sk-serial::before {content: \"\";position: absolute;border-left: 1px solid gray;box-sizing: border-box;top: 0;bottom: 0;left: 50%;z-index: 0;}#sk-container-id-1 div.sk-serial {display: flex;flex-direction: column;align-items: center;background-color: white;padding-right: 0.2em;padding-left: 0.2em;position: relative;}#sk-container-id-1 div.sk-item {position: relative;z-index: 1;}#sk-container-id-1 div.sk-parallel {display: flex;align-items: stretch;justify-content: center;background-color: white;position: relative;}#sk-container-id-1 div.sk-item::before, #sk-container-id-1 div.sk-parallel-item::before {content: \"\";position: absolute;border-left: 1px solid gray;box-sizing: border-box;top: 0;bottom: 0;left: 50%;z-index: -1;}#sk-container-id-1 div.sk-parallel-item {display: flex;flex-direction: column;z-index: 1;position: relative;background-color: white;}#sk-container-id-1 div.sk-parallel-item:first-child::after {align-self: flex-end;width: 50%;}#sk-container-id-1 div.sk-parallel-item:last-child::after {align-self: flex-start;width: 50%;}#sk-container-id-1 div.sk-parallel-item:only-child::after {width: 0;}#sk-container-id-1 div.sk-dashed-wrapped {border: 1px dashed gray;margin: 0 0.4em 0.5em 0.4em;box-sizing: border-box;padding-bottom: 0.4em;background-color: white;}#sk-container-id-1 div.sk-label label {font-family: monospace;font-weight: bold;display: inline-block;line-height: 1.2em;}#sk-container-id-1 div.sk-label-container {text-align: center;}#sk-container-id-1 div.sk-container {/* jupyter's `normalize.less` sets `[hidden] { display: none; }` but bootstrap.min.css set `[hidden] { display: none !important; }` so we also need the `!important` here to be able to override the default hidden behavior on the sphinx rendered scikit-learn.org. See: https://github.com/scikit-learn/scikit-learn/issues/21755 */display: inline-block !important;position: relative;}#sk-container-id-1 div.sk-text-repr-fallback {display: none;}</style><div id=\"sk-container-id-1\" class=\"sk-top-container\"><div class=\"sk-text-repr-fallback\"><pre>XGBClassifier(base_score=None, booster=None, callbacks=None,\n",
              "              colsample_bylevel=None, colsample_bynode=None,\n",
              "              colsample_bytree=None, device=None, early_stopping_rounds=None,\n",
              "              enable_categorical=False, eval_metric=None, feature_types=None,\n",
              "              gamma=None, grow_policy=None, importance_type=None,\n",
              "              interaction_constraints=None, learning_rate=0.4, max_bin=None,\n",
              "              max_cat_threshold=None, max_cat_to_onehot=None,\n",
              "              max_delta_step=None, max_depth=7, max_leaves=None,\n",
              "              min_child_weight=None, missing=nan, monotone_constraints=None,\n",
              "              multi_strategy=None, n_estimators=None, n_jobs=None,\n",
              "              num_parallel_tree=None, random_state=None, ...)</pre><b>In a Jupyter environment, please rerun this cell to show the HTML representation or trust the notebook. <br />On GitHub, the HTML representation is unable to render, please try loading this page with nbviewer.org.</b></div><div class=\"sk-container\" hidden><div class=\"sk-item\"><div class=\"sk-estimator sk-toggleable\"><input class=\"sk-toggleable__control sk-hidden--visually\" id=\"sk-estimator-id-1\" type=\"checkbox\" checked><label for=\"sk-estimator-id-1\" class=\"sk-toggleable__label sk-toggleable__label-arrow\">XGBClassifier</label><div class=\"sk-toggleable__content\"><pre>XGBClassifier(base_score=None, booster=None, callbacks=None,\n",
              "              colsample_bylevel=None, colsample_bynode=None,\n",
              "              colsample_bytree=None, device=None, early_stopping_rounds=None,\n",
              "              enable_categorical=False, eval_metric=None, feature_types=None,\n",
              "              gamma=None, grow_policy=None, importance_type=None,\n",
              "              interaction_constraints=None, learning_rate=0.4, max_bin=None,\n",
              "              max_cat_threshold=None, max_cat_to_onehot=None,\n",
              "              max_delta_step=None, max_depth=7, max_leaves=None,\n",
              "              min_child_weight=None, missing=nan, monotone_constraints=None,\n",
              "              multi_strategy=None, n_estimators=None, n_jobs=None,\n",
              "              num_parallel_tree=None, random_state=None, ...)</pre></div></div></div></div></div>"
            ]
          },
          "metadata": {},
          "execution_count": 34
        }
      ]
    },
    {
      "cell_type": "markdown",
      "source": [
        "<h1> 모델 평가"
      ],
      "metadata": {
        "id": "Wif-R5N6cgft"
      }
    },
    {
      "cell_type": "code",
      "source": [
        "# 일반화 성능 평가용\n",
        "y_test_pred = xgb.predict(X_test)\n",
        "\n",
        "# 과적합 여부 확인\n",
        "y_train_pred = xgb.predict(X_train)"
      ],
      "metadata": {
        "id": "LvwcNzBccXhN"
      },
      "execution_count": 35,
      "outputs": []
    },
    {
      "cell_type": "code",
      "source": [
        "# 검증 정확도 계산\n",
        "acc_test = accuracy_score(y_test, y_test_pred)\n",
        "print(f\"Test Accuracy: {acc_test}\")\n",
        "\n",
        "# 훈련 정확도 계산\n",
        "acc_train = accuracy_score(y_train, y_train_pred)\n",
        "print(f\"Train Accuracy: {acc_train}\")"
      ],
      "metadata": {
        "colab": {
          "base_uri": "https://localhost:8080/"
        },
        "id": "IAOn3Ds3eGl2",
        "outputId": "b823f93b-6f73-491c-c0ff-2ff7d88e28c3"
      },
      "execution_count": 37,
      "outputs": [
        {
          "output_type": "stream",
          "name": "stdout",
          "text": [
            "Test Accuracy: 0.973767526006332\n",
            "Train Accuracy: 0.9888059701492538\n"
          ]
        }
      ]
    },
    {
      "cell_type": "markdown",
      "source": [
        "<h1>분류 보고서"
      ],
      "metadata": {
        "id": "V5sltVbYg82D"
      }
    },
    {
      "cell_type": "code",
      "source": [
        "# 테스트셋 분류 보고서\n",
        "test_report = classification_report(y_test, y_test_pred, target_names=['-1', '1'])\n",
        "print(\"Test Classification Report:\")\n",
        "print(test_report)"
      ],
      "metadata": {
        "colab": {
          "base_uri": "https://localhost:8080/"
        },
        "id": "UjfKCFBAg-xQ",
        "outputId": "fe5fdcac-a5d1-492e-b603-ee89ac18ff76"
      },
      "execution_count": 44,
      "outputs": [
        {
          "output_type": "stream",
          "name": "stdout",
          "text": [
            "Test Classification Report:\n",
            "              precision    recall  f1-score   support\n",
            "\n",
            "          -1       0.98      0.97      0.97      1001\n",
            "           1       0.97      0.98      0.98      1210\n",
            "\n",
            "    accuracy                           0.97      2211\n",
            "   macro avg       0.97      0.97      0.97      2211\n",
            "weighted avg       0.97      0.97      0.97      2211\n",
            "\n"
          ]
        }
      ]
    },
    {
      "cell_type": "code",
      "source": [
        "# 훈련셋 분류 보고서\n",
        "train_report = classification_report(y_train, y_train_pred, target_names=['-1', '1'])\n",
        "print(\"Train Classification Report:\")\n",
        "print(train_report)"
      ],
      "metadata": {
        "colab": {
          "base_uri": "https://localhost:8080/"
        },
        "id": "GSil1y42hr8I",
        "outputId": "077ec0a1-363f-4a3f-c7ae-56fef7fae5e4"
      },
      "execution_count": 45,
      "outputs": [
        {
          "output_type": "stream",
          "name": "stdout",
          "text": [
            "Train Classification Report:\n",
            "              precision    recall  f1-score   support\n",
            "\n",
            "          -1       0.99      0.98      0.99      3897\n",
            "           1       0.99      0.99      0.99      4947\n",
            "\n",
            "    accuracy                           0.99      8844\n",
            "   macro avg       0.99      0.99      0.99      8844\n",
            "weighted avg       0.99      0.99      0.99      8844\n",
            "\n"
          ]
        }
      ]
    },
    {
      "cell_type": "markdown",
      "source": [
        "<h1>혼동 행렬"
      ],
      "metadata": {
        "id": "44F_FPMOfUCl"
      }
    },
    {
      "cell_type": "code",
      "source": [
        "# 테스트 데이터 혼동 행렬\n",
        "test_conf_matrix = confusion_matrix(y_test, y_test_pred, labels=[0, 1])\n",
        "\n",
        "disp_test = ConfusionMatrixDisplay(confusion_matrix=test_conf_matrix, display_labels=[-1, 1])\n",
        "disp_test.plot()\n",
        "plt.title('Test Confusion Matrix')\n",
        "plt.show()"
      ],
      "metadata": {
        "colab": {
          "base_uri": "https://localhost:8080/",
          "height": 472
        },
        "id": "6MWpbAimfWfu",
        "outputId": "df11adc2-f457-4ab0-9739-bf2417d08f31"
      },
      "execution_count": 40,
      "outputs": [
        {
          "output_type": "display_data",
          "data": {
            "text/plain": [
              "<Figure size 640x480 with 2 Axes>"
            ],
            "image/png": "[encoded data removed]"
          },
          "metadata": {}
        }
      ]
    },
    {
      "cell_type": "code",
      "source": [
        "# 훈련 데이터 혼동 행렬\n",
        "train_conf_matrix = confusion_matrix(y_train, y_train_pred, labels=[0, 1])\n",
        "\n",
        "disp_train = ConfusionMatrixDisplay(confusion_matrix=train_conf_matrix, display_labels=[-1, 1])\n",
        "disp_train.plot()\n",
        "plt.title('Train Confusion Matrix')\n",
        "plt.show()"
      ],
      "metadata": {
        "colab": {
          "base_uri": "https://localhost:8080/",
          "height": 472
        },
        "id": "J-DclNyLgmAJ",
        "outputId": "94e7db8b-eabe-41b5-ae30-041cc491979c"
      },
      "execution_count": 42,
      "outputs": [
        {
          "output_type": "display_data",
          "data": {
            "text/plain": [
              "<Figure size 640x480 with 2 Axes>"
            ],
            "image/png": "[encoded data removed]"
          },
          "metadata": {}
        }
      ]
    }
  ]
}